{
 "cells": [
  {
   "cell_type": "markdown",
   "id": "e8b1a42d-5000-410b-9172-de4141385376",
   "metadata": {},
   "source": [
    "Q1. Create a python program to sort the given list of tuples based on integer value using a\n",
    "lambda function."
   ]
  },
  {
   "cell_type": "code",
   "execution_count": 3,
   "id": "a6b2929d-0a69-4b0f-be61-8a75ecc997d9",
   "metadata": {},
   "outputs": [
    {
     "name": "stdout",
     "output_type": "stream",
     "text": [
      "Sorted list based on integer value:\n",
      "[('Virat Kohli', 24936), ('Jack Kallis', 25534), ('Ricky Ponting', 27483), ('Sachin Tendulkar', 34357)]\n"
     ]
    },
    {
     "data": {
      "text/plain": [
       "'In this code:\\n\\nThe sorted function is used to sort the list of tuples.\\nThe key parameter is set to a lambda function lambda x: x[1], which specifies that the sorting should be based on the second element of each tuple (the integer value in this case).\\nThe result is the sorted list based on the integer value, and it is printed.'"
      ]
     },
     "execution_count": 3,
     "metadata": {},
     "output_type": "execute_result"
    }
   ],
   "source": [
    "# Ans:-\n",
    "\n",
    "\n",
    "# Given list of tuples\n",
    "list_of_tuples = [('Sachin Tendulkar', 34357), ('Ricky Ponting', 27483), ('Jack Kallis', 25534), ('Virat Kohli', 24936)]\n",
    "\n",
    "# Sorting the list based on the second element of each tuple (integer value)\n",
    "sorted_list = sorted(list_of_tuples, key=lambda x: x[1])\n",
    "\n",
    "# Printing the sorted list\n",
    "print(\"Sorted list based on integer value:\")\n",
    "print(sorted_list)\n",
    "\n",
    "\n",
    "'''In this code:\n",
    "\n",
    "The sorted function is used to sort the list of tuples.\n",
    "The key parameter is set to a lambda function lambda x: x[1], which specifies that the sorting should be based on the second element of each tuple (the integer value in this case).\n",
    "The result is the sorted list based on the integer value, and it is printed.'''"
   ]
  },
  {
   "cell_type": "markdown",
   "id": "a02d6112-37ea-4ff7-ac8b-2d2f0fc00262",
   "metadata": {},
   "source": [
    "Q2. Write a Python Program to find the squares of all the numbers in the given list of integers using\n",
    "lambda and map functions."
   ]
  },
  {
   "cell_type": "code",
   "execution_count": 5,
   "id": "c595a4d4-450c-46e4-8be6-be22d82922b5",
   "metadata": {},
   "outputs": [
    {
     "data": {
      "text/plain": [
       "[1, 4, 9, 16, 25, 36, 49, 64, 81, 100]"
      ]
     },
     "execution_count": 5,
     "metadata": {},
     "output_type": "execute_result"
    }
   ],
   "source": [
    "# Ans:-\n",
    "list(map(lambda x: x**2, [1, 2, 3, 4, 5, 6, 7, 8, 9, 10]))"
   ]
  },
  {
   "cell_type": "markdown",
   "id": "52df31b6-7d87-4c30-8cac-3c8963c533e6",
   "metadata": {},
   "source": [
    "Q3. Write a python program to convert the given list of integers into a tuple of strings. Use map and\n",
    "lambda functions\n",
    "Given String: [1, 2, 3, 4, 5, 6, 7, 8, 9, 10]\n",
    "Expected output: ('1', '2', '3', '4', '5', '6', '7', '8', '9', '10')"
   ]
  },
  {
   "cell_type": "code",
   "execution_count": 14,
   "id": "db51ab5b-870a-458e-999c-438d514de187",
   "metadata": {},
   "outputs": [
    {
     "name": "stdout",
     "output_type": "stream",
     "text": [
      "Converted tuple of strings:\n",
      "('1', '2', '3', '4', '5', '6', '7', '8', '9', '10')\n"
     ]
    }
   ],
   "source": [
    "# Ans:-\n",
    "\n",
    "# Given list of integers\n",
    "list_of_integers = [1, 2, 3, 4, 5, 6, 7, 8, 9, 10]\n",
    "\n",
    "# Using map and lambda to convert the list of integers to a tuple of strings\n",
    "tuple_of_strings = tuple(map(lambda x: str(x), list_of_integers))\n",
    "\n",
    "# Printing the result\n",
    "print(\"Converted tuple of strings:\")\n",
    "print(tuple_of_strings)\n"
   ]
  },
  {
   "cell_type": "markdown",
   "id": "b838b13d-1105-4b59-8269-d22bdcde2ca0",
   "metadata": {},
   "source": [
    "Q4. Write a python program using reduce function to compute the product of a list containing numbers\n",
    "from 1 to 25."
   ]
  },
  {
   "cell_type": "code",
   "execution_count": 28,
   "id": "a465b32f-6f46-4b72-95db-4edf8c17cb01",
   "metadata": {},
   "outputs": [
    {
     "name": "stdout",
     "output_type": "stream",
     "text": [
      "Product of the numbers from 1 to 25:\n"
     ]
    },
    {
     "data": {
      "text/plain": [
       "15511210043330985984000000"
      ]
     },
     "execution_count": 28,
     "metadata": {},
     "output_type": "execute_result"
    }
   ],
   "source": [
    "# Ans:-\n",
    "\n",
    "from functools import reduce\n",
    "\n",
    "print(\"Product of the numbers from 1 to 25:\" )\n",
    "reduce(lambda x,y: x*y, list(range(1,26)))"
   ]
  },
  {
   "cell_type": "markdown",
   "id": "b19b6c7a-127f-4327-a953-c9d8143e3bee",
   "metadata": {},
   "source": [
    "Q5. Write a python program to filter the numbers in a given list that are divisible by 2 and 3 using the\n",
    "filter function."
   ]
  },
  {
   "cell_type": "code",
   "execution_count": 43,
   "id": "3b1d0856-e714-4b94-a76a-2507107429e6",
   "metadata": {},
   "outputs": [
    {
     "name": "stdout",
     "output_type": "stream",
     "text": [
      "Numbers divisible by 2 and 3\n",
      "[6, 60, 90, 120]\n"
     ]
    }
   ],
   "source": [
    "# Ans:-\n",
    "numbers_actual = [2, 3, 6, 9, 27, 60, 90, 120, 55, 46]\n",
    "\n",
    "result_numbers = filter(lambda x: x%2==0 and x%3==0, numbers_actual)\n",
    "print('Numbers divisible by 2 and 3')\n",
    "print(list(result_numbers))\n"
   ]
  },
  {
   "cell_type": "markdown",
   "id": "633c744a-4ac0-4a48-a87c-621e4fa709af",
   "metadata": {},
   "source": [
    "Q6. Write a python program to find palindromes in the given list of strings using lambda and filter\n",
    "function.\n",
    "['python', 'php', 'aba', 'radar', 'level']"
   ]
  },
  {
   "cell_type": "code",
   "execution_count": 46,
   "id": "0c927074-2a2d-4958-81f9-b3103a39a5f8",
   "metadata": {},
   "outputs": [
    {
     "name": "stdout",
     "output_type": "stream",
     "text": [
      "Palindromes in the list:\n",
      "['php', 'aba', 'radar', 'level']\n"
     ]
    }
   ],
   "source": [
    "data_list = ['python', 'php', 'aba', 'radar', 'level']\n",
    "\n",
    "# Using filter and lambda to filter out palindromes\n",
    "palindromes = filter(lambda x: x == x[::-1], data_list)\n",
    "\n",
    "# Converting the filter object to a list and printing the result\n",
    "print(\"Palindromes in the list:\")\n",
    "print(list(palindromes))\n"
   ]
  }
 ],
 "metadata": {
  "kernelspec": {
   "display_name": "Python 3 (ipykernel)",
   "language": "python",
   "name": "python3"
  },
  "language_info": {
   "codemirror_mode": {
    "name": "ipython",
    "version": 3
   },
   "file_extension": ".py",
   "mimetype": "text/x-python",
   "name": "python",
   "nbconvert_exporter": "python",
   "pygments_lexer": "ipython3",
   "version": "3.10.6"
  }
 },
 "nbformat": 4,
 "nbformat_minor": 5
}
