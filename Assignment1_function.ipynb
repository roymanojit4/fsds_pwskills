{
 "cells": [
  {
   "cell_type": "markdown",
   "id": "0d8f9ede-ce4e-43f9-9598-b816faaae99a",
   "metadata": {},
   "source": [
    "Q1. Which keyword is used to create a function? Create a function to return a list of odd numbers in the\n",
    "range of 1 to 25."
   ]
  },
  {
   "cell_type": "code",
   "execution_count": 1,
   "id": "97ab065b-a156-4ae8-a861-d4ad06357505",
   "metadata": {},
   "outputs": [],
   "source": [
    "# Ans:-\n",
    "\n",
    "# def kewword is used to create a function\n",
    "\n",
    "def odd_numbers(x,y):\n",
    "    l = []\n",
    "    for i in range(x,y):\n",
    "        if i%2 != 0:\n",
    "            l.append(i)\n",
    "    return l"
   ]
  },
  {
   "cell_type": "code",
   "execution_count": 2,
   "id": "8f3b3e92-c416-48ae-b4b6-0a55baa5bc1e",
   "metadata": {},
   "outputs": [
    {
     "data": {
      "text/plain": [
       "[1, 3, 5, 7, 9, 11, 13, 15, 17, 19, 21, 23]"
      ]
     },
     "execution_count": 2,
     "metadata": {},
     "output_type": "execute_result"
    }
   ],
   "source": [
    "odd_numbers(1,25)"
   ]
  },
  {
   "cell_type": "markdown",
   "id": "a3fd814f-089a-489b-8fa0-1409bdb0a189",
   "metadata": {},
   "source": [
    "Q2. Why *args and **kwargs is used in some functions? Create a function each for *args and **kwargs\n",
    "to demonstrate their use."
   ]
  },
  {
   "cell_type": "code",
   "execution_count": 3,
   "id": "fa21076c-2a63-47c5-a664-22f501fff319",
   "metadata": {},
   "outputs": [
    {
     "name": "stdout",
     "output_type": "stream",
     "text": [
      "1\n",
      "2\n",
      "3\n",
      "four\n"
     ]
    }
   ],
   "source": [
    "# In Python, *args and **kwargs are used to allow a function to accept a variable number of arguments.\n",
    "\n",
    "# *Using args:\n",
    "# The *args syntax allows a function to accept any number of positional arguments. It collects them into a tuple.\n",
    "\n",
    "def example_function(*args):\n",
    "    for arg in args:\n",
    "        print(arg)\n",
    "\n",
    "# Usage\n",
    "example_function(1, 2, 3, \"four\")\n"
   ]
  },
  {
   "cell_type": "code",
   "execution_count": 4,
   "id": "e9a714f5-1d80-488d-9847-fba3ab63b25d",
   "metadata": {},
   "outputs": [
    {
     "name": "stdout",
     "output_type": "stream",
     "text": [
      "name : John\n",
      "age : 25\n",
      "city : New York\n"
     ]
    }
   ],
   "source": [
    "# **Using kwargs:\n",
    "# The **kwargs syntax allows a function to accept any number of keyword arguments. It collects them into a dictionary.\n",
    "\n",
    "def example_function_kwargs(**kwargs):\n",
    "    for key, value in kwargs.items():\n",
    "        print(key, \":\", value)\n",
    "\n",
    "# Usage\n",
    "example_function_kwargs(name=\"John\", age=25, city=\"New York\")\n"
   ]
  },
  {
   "cell_type": "code",
   "execution_count": null,
   "id": "70a54a06-964d-42b8-9786-8fe846064ca4",
   "metadata": {},
   "outputs": [],
   "source": [
    "# These constructs are useful when you want to create flexible functions that can handle different numbers of arguments or keyword arguments."
   ]
  },
  {
   "cell_type": "markdown",
   "id": "e7beee54-36ea-4ccf-a98a-f72c7c1401b6",
   "metadata": {},
   "source": [
    "Q3. What is an iterator in python? Name the method used to initialise the iterator object and the method\n",
    "used for iteration. Use these methods to print the first five elements of the given list [2, 4, 6, 8, 10, 12, 14,\n",
    "16, 18, 20]."
   ]
  },
  {
   "cell_type": "code",
   "execution_count": 5,
   "id": "1ecc0a57-cdfb-4569-ad9c-503979b5065c",
   "metadata": {},
   "outputs": [
    {
     "name": "stdout",
     "output_type": "stream",
     "text": [
      "2\n",
      "4\n",
      "6\n",
      "8\n",
      "10\n"
     ]
    }
   ],
   "source": [
    "'''In Python, an iterator is an object that represents a stream of data. It implements two methods, __iter__ and __next__, that allow it to be iterated over.\n",
    "\n",
    "Initializing an Iterator:\n",
    "\n",
    "To initialize an iterator object, you typically use the iter() function. This function calls the __iter__ method on the object.\n",
    "Iteration:\n",
    "\n",
    "The __next__ method is called to get the next element from the iterator. When there are no more elements, it raises the StopIteration exception to signal the end of the iteration.\n",
    "\n",
    "Here's an example using the given list:'''\n",
    "\n",
    "# Given list\n",
    "my_list = [2, 4, 6, 8, 10, 12, 14, 16, 18, 20]\n",
    "\n",
    "# Initializing an iterator\n",
    "my_iterator = iter(my_list)\n",
    "\n",
    "# Iterating and printing the first five elements\n",
    "for _ in range(5):\n",
    "    element = next(my_iterator)\n",
    "    print(element)\n"
   ]
  },
  {
   "cell_type": "code",
   "execution_count": null,
   "id": "5f13e89d-12da-4ca4-8a1d-768288bdaf3f",
   "metadata": {},
   "outputs": [],
   "source": [
    "# In this example, iter(my_list) initializes an iterator for the given list, and the for loop with next(my_iterator) prints the first five elements."
   ]
  },
  {
   "cell_type": "markdown",
   "id": "d531239e-fdfd-45a7-867f-ec455cd9bd32",
   "metadata": {},
   "source": [
    "Q4. What is a generator function in python? Why yield keyword is used? Give an example of a generator\n",
    "function."
   ]
  },
  {
   "cell_type": "code",
   "execution_count": 6,
   "id": "0c9f5cf4-adda-4d53-9d4a-f3a5e117fe23",
   "metadata": {},
   "outputs": [
    {
     "name": "stdout",
     "output_type": "stream",
     "text": [
      "1\n",
      "2\n",
      "3\n",
      "4\n",
      "5\n"
     ]
    }
   ],
   "source": [
    "'''In Python, a generator function is a special type of function that allows you to create an iterator. Unlike regular functions that return a value and then terminate, generator functions use the yield keyword to produce a sequence of values over multiple calls.\n",
    "\n",
    "Why yield is used:\n",
    "\n",
    "When a generator function is called, it doesn't execute immediately. Instead, it returns a generator object that can be iterated over. The generator function only runs when an iteration is requested, and it pauses its execution whenever it encounters a yield statement, allowing the calling code to consume the yielded value.\n",
    "\n",
    "Example of a generator function:'''\n",
    "\n",
    "def count_up_to(limit):\n",
    "    count = 1\n",
    "    while count <= limit:\n",
    "        yield count\n",
    "        count += 1\n",
    "\n",
    "# Using the generator function\n",
    "my_generator = count_up_to(5)\n",
    "\n",
    "# Iterating over the generated values\n",
    "for number in my_generator:\n",
    "    print(number)\n"
   ]
  },
  {
   "cell_type": "code",
   "execution_count": null,
   "id": "58efac24-306e-4145-b4db-0529614f2d6e",
   "metadata": {},
   "outputs": [],
   "source": [
    "'''In this example, count_up_to is a generator function that yields numbers starting from 1 up to the specified limit.\n",
    "When you iterate over my_generator, the function is executed up to the yield statement, and the yielded value is returned. \n",
    "The function state is then saved, and it resumes execution from where it left off the next time next() is called on the generator.'''"
   ]
  },
  {
   "cell_type": "markdown",
   "id": "1f143caf-bf70-4918-899c-0765a5481b43",
   "metadata": {},
   "source": [
    "Q5. Create a generator function for prime numbers less than 1000. Use the next() method to print the\n",
    "first 20 prime numbers."
   ]
  },
  {
   "cell_type": "code",
   "execution_count": 9,
   "id": "82a48bc1-66da-4033-a967-9c90c2ff9764",
   "metadata": {},
   "outputs": [
    {
     "name": "stdout",
     "output_type": "stream",
     "text": [
      "2\n",
      "3\n",
      "5\n",
      "7\n",
      "11\n",
      "13\n",
      "17\n",
      "19\n",
      "23\n",
      "29\n",
      "31\n",
      "37\n",
      "41\n",
      "43\n",
      "47\n",
      "53\n",
      "59\n",
      "61\n",
      "67\n",
      "71\n"
     ]
    }
   ],
   "source": [
    "# Ans:-\n",
    "''' Below is an example of a generator function that generates prime numbers less than 1000, \n",
    "and then uses the next() method to print the first 20 prime numbers:'''\n",
    "\n",
    "def generate_primes():\n",
    "    primes = []\n",
    "    num = 2\n",
    "    while len(primes) < 20:\n",
    "        is_prime = all(num % prime != 0 for prime in primes)\n",
    "        if is_prime:\n",
    "            primes.append(num)\n",
    "            yield num\n",
    "        num += 1\n",
    "\n",
    "# Using the generator to print the first 20 prime numbers\n",
    "prime_generator = generate_primes()\n",
    "\n",
    "for _ in range(20):\n",
    "    prime_number = next(prime_generator)\n",
    "    print(prime_number)\n"
   ]
  },
  {
   "cell_type": "markdown",
   "id": "819ca935-3d4d-4ffd-bcb3-26a4d9d252db",
   "metadata": {},
   "source": [
    "Q6. Write a python program to print the first 10 Fibonacci numbers using a while loop."
   ]
  },
  {
   "cell_type": "code",
   "execution_count": 15,
   "id": "2a36128e-0538-42b5-84d2-119d3eda7d0c",
   "metadata": {},
   "outputs": [
    {
     "name": "stdout",
     "output_type": "stream",
     "text": [
      "First 10 Fibonacci numbers:\n",
      "0\n",
      "1\n",
      "1\n",
      "2\n",
      "3\n",
      "5\n",
      "8\n",
      "13\n",
      "21\n",
      "34\n"
     ]
    }
   ],
   "source": [
    "# Ans:-\n",
    "\n",
    "# Function to generate Fibonacci numbers\n",
    "def generate_fibonacci(n):\n",
    "    fib_numbers = []\n",
    "    a, b = 0, 1\n",
    "\n",
    "    while len(fib_numbers) < n:\n",
    "        fib_numbers.append(a)\n",
    "        a, b = b, a + b\n",
    "\n",
    "    return fib_numbers\n",
    "\n",
    "# Using the function to print the first 10 Fibonacci numbers\n",
    "fibonacci_sequence = generate_fibonacci(10)\n",
    "\n",
    "# Printing the result\n",
    "print(\"First 10 Fibonacci numbers:\")\n",
    "for num in fibonacci_sequence:\n",
    "    print(num)\n"
   ]
  },
  {
   "cell_type": "markdown",
   "id": "4c95ec08-c428-4de8-b3be-b70e1c023419",
   "metadata": {},
   "source": [
    "Q7. Write a List Comprehension to iterate through the given string: ‘pwskills’.\n",
    "Expected output: ['p', 'w', 's', 'k', 'i', 'l', 'l', 's']"
   ]
  },
  {
   "cell_type": "code",
   "execution_count": 23,
   "id": "e42c8c72-f1b9-491f-99ce-668ee239f32a",
   "metadata": {},
   "outputs": [
    {
     "name": "stdout",
     "output_type": "stream",
     "text": [
      "['p', 'w', 's', 'k', 'i', 'l', 'l', 's']\n"
     ]
    }
   ],
   "source": [
    "#Ans:-\n",
    "\n",
    "input_string = 'pwskills'\n",
    "\n",
    "result_list = []\n",
    "\n",
    "for i in input_string:\n",
    "    result_list.append(i)\n",
    "print(result_list)"
   ]
  },
  {
   "cell_type": "code",
   "execution_count": 21,
   "id": "9ff354d3-582a-406f-b068-cd54d369d6ae",
   "metadata": {},
   "outputs": [
    {
     "name": "stdout",
     "output_type": "stream",
     "text": [
      "['p', 'w', 's', 'k', 'i', 'l', 'l', 's']\n"
     ]
    }
   ],
   "source": [
    "#Alternate method\n",
    "input_string = 'pwskills'\n",
    "result_list = [char for char in input_string]\n",
    "print(result_list)\n"
   ]
  },
  {
   "cell_type": "markdown",
   "id": "e724e6d9-e572-4f10-8d60-16b03ee06eab",
   "metadata": {},
   "source": [
    "Q8. Write a python program to check whether a given number is Palindrome or not using a while loop."
   ]
  },
  {
   "cell_type": "code",
   "execution_count": 25,
   "id": "0d515282-8ce7-40c1-bdda-e00eabc52b99",
   "metadata": {},
   "outputs": [
    {
     "name": "stdin",
     "output_type": "stream",
     "text": [
      "Enter a number:  6\n"
     ]
    },
    {
     "name": "stdout",
     "output_type": "stream",
     "text": [
      "6 is a palindrome.\n"
     ]
    }
   ],
   "source": [
    "# Ans:\n",
    "\n",
    "def is_palindrome(number):\n",
    "    original_number = number\n",
    "    reversed_number = 0\n",
    "\n",
    "    while number > 0:\n",
    "        digit = number % 10\n",
    "        reversed_number = (reversed_number * 10) + digit\n",
    "        number = number // 10\n",
    "\n",
    "    return original_number == reversed_number\n",
    "\n",
    "# Taking input from the user\n",
    "num = int(input(\"Enter a number: \"))\n",
    "\n",
    "# Checking if the number is a palindrome\n",
    "if is_palindrome(num):\n",
    "    print(f\"{num} is a palindrome.\")\n",
    "else:\n",
    "    print(f\"{num} is not a palindrome.\")\n"
   ]
  },
  {
   "cell_type": "markdown",
   "id": "3a226668-c366-47fe-9b23-227b56a3bf2b",
   "metadata": {},
   "source": [
    "Q9. Write a code to print odd numbers from 1 to 100 using list comprehension.\n",
    "Note: Use a list comprehension to create a list from 1 to 100 and use another List comprehension to filter\n",
    "out odd numbers."
   ]
  },
  {
   "cell_type": "code",
   "execution_count": 31,
   "id": "6f2e742c-68a7-4a26-b569-21ec6aa0ff2f",
   "metadata": {},
   "outputs": [
    {
     "name": "stdout",
     "output_type": "stream",
     "text": [
      "Odd numbers from 1 to 100:\n",
      "[1, 3, 5, 7, 9, 11, 13, 15, 17, 19, 21, 23, 25, 27, 29, 31, 33, 35, 37, 39, 41, 43, 45, 47, 49, 51, 53, 55, 57, 59, 61, 63, 65, 67, 69, 71, 73, 75, 77, 79, 81, 83, 85, 87, 89, 91, 93, 95, 97, 99]\n"
     ]
    }
   ],
   "source": [
    "# Ans:-\n",
    "\n",
    "# Using list comprehension to create a list from 1 to 100\n",
    "numbers = [num for num in range(1, 101)]\n",
    "\n",
    "# Using another list comprehension to filter out odd numbers\n",
    "odd_numbers = [num for num in numbers if num % 2 != 0]\n",
    "\n",
    "# Printing the result\n",
    "print(\"Odd numbers from 1 to 100:\")\n",
    "print(odd_numbers)\n",
    "\n",
    "    "
   ]
  }
 ],
 "metadata": {
  "kernelspec": {
   "display_name": "Python 3 (ipykernel)",
   "language": "python",
   "name": "python3"
  },
  "language_info": {
   "codemirror_mode": {
    "name": "ipython",
    "version": 3
   },
   "file_extension": ".py",
   "mimetype": "text/x-python",
   "name": "python",
   "nbconvert_exporter": "python",
   "pygments_lexer": "ipython3",
   "version": "3.10.6"
  }
 },
 "nbformat": 4,
 "nbformat_minor": 5
}
