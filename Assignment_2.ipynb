{
 "cells": [
  {
   "cell_type": "markdown",
   "id": "fca97bde-3c8a-45d5-b0b6-b33445d143c2",
   "metadata": {},
   "source": [
    "Q1. How do you comment code in Python? What are the different types of comments?"
   ]
  },
  {
   "cell_type": "code",
   "execution_count": 1,
   "id": "e5de0c0d-3f9d-4440-a70e-4dcd185eb263",
   "metadata": {},
   "outputs": [],
   "source": [
    "# In Python, comments are used to add explanatory notes or annotations to the code. Comments are not executed by the Python interpreter; they are ignored during the execution of the program. There are two main types of comments in Python:\n",
    "\n",
    "# Single-line comments:\n",
    "\n",
    "# Single-line comments begin with the hash (#) symbol.\n",
    "# They extend from the # symbol to the end of the line.\n",
    "# Single-line comments are commonly used for brief explanations or notes.\n",
    "\n",
    "# This is a single-line comment\n",
    "variable = 42  # This is also a comment on the same line\n",
    "\n",
    "\n",
    "# Multi-line comments (Docstrings):\n",
    "\n",
    "# Multi-line comments, also known as docstrings, are used for documenting modules, classes, functions, or methods.\n",
    "# They are enclosed in triple-quotes (either single or double) and can span multiple lines.\n",
    "\n",
    "\"\"\"\n",
    "This is a multi-line comment or docstring.\n",
    "It can provide more detailed documentation for a module, class, function, or method.\n",
    "\"\"\"\n",
    "\n",
    "def my_function():\n",
    "    \"\"\"\n",
    "    This is a docstring for the function.\n",
    "    It explains what the function does and may include information about parameters and return values.\n",
    "    \"\"\"\n",
    "    pass\n"
   ]
  },
  {
   "cell_type": "markdown",
   "id": "59fea558-d613-43c0-be81-8fcd64211073",
   "metadata": {},
   "source": [
    "Q2. What are variables in Python? How do you declare and assign values to variables?"
   ]
  },
  {
   "cell_type": "code",
   "execution_count": null,
   "id": "fd2bcd5a-21bb-40c7-aa83-c69dc5110654",
   "metadata": {},
   "outputs": [],
   "source": [
    "# Declaration and Assignment:\n",
    "\n",
    "# Variables in Python are created when you assign a value to them.\n",
    "# You can assign a value to a variable using the assignment operator (=).\n",
    "\n",
    "\n",
    "# Declaration and assignment in a single line\n",
    "variable_name = 42\n",
    "\n",
    "# You can also declare multiple variables in a single line\n",
    "x, y, z = 10, 20, 30\n",
    "# Variable Naming Rules:\n",
    "\n",
    "# Variable names in Python must start with a letter (a-z, A-Z) or an underscore (_).\n",
    "# The remaining characters in the name can include letters, numbers, and underscores.\n",
    "# Variable names are case-sensitive, so myVariable and myvariable are different.\n",
    "\n",
    "# Valid variable names\n",
    "my_variable = 42\n",
    "_count = 10\n",
    "x1 = 5\n",
    "\n",
    "# Invalid variable names\n",
    "1st_variable = 15  # Starts with a number, not allowed\n",
    "my-variable = 7    # Hyphens are not allowed\n",
    "# Dynamic Typing:\n",
    "\n",
    "# Python is dynamically typed, meaning you don't need to declare the data type of a variable explicitly.\n",
    "# The type of the variable is determined at runtime based on the value assigned to it.\n",
    "\n",
    "variable_name = 42  # variable_name is dynamically assigned the type int\n",
    "variable_name = \"Hello\"  # Now, variable_name is dynamically assigned the type str\n",
    "# Reassignment:\n",
    "\n",
    "# You can change the value of a variable by assigning a new value to it.\n",
    "\n",
    "variable_name = 42\n",
    "variable_name = variable_name + 8  # Reassigning with a new value\n",
    "\n",
    "# Variables are a fundamental concept in programming, allowing you to store and manipulate data in your programs. Understanding how to declare, assign, and use variables is essential for writing effective and readable code in Python.\n",
    "\n"
   ]
  },
  {
   "cell_type": "code",
   "execution_count": null,
   "id": "30b60875-1dee-47be-a5ca-99581d3a12df",
   "metadata": {},
   "outputs": [],
   "source": [
    "Q2. What are variables in Python? How do you declare and assign values to variables?"
   ]
  },
  {
   "cell_type": "code",
   "execution_count": null,
   "id": "8aa90502-ede3-4d26-b779-ab311d7b6680",
   "metadata": {},
   "outputs": [],
   "source": [
    "# In Python, a variable is a named storage location that holds a value. It is a way to associate a name with a memory location, making it easier to reference and manipulate data in a program.\n",
    "\n",
    "# Declaration and Assignment:\n",
    "# Declaration:\n",
    "# In Python, you don't need to explicitly declare the data type of a variable. The type is determined dynamically at runtime.\n",
    "\n",
    "# Variable declaration and assignment\n",
    "variable_name = 42\n",
    "# Here, variable_name is the name of the variable, and 42 is the value assigned to it.\n",
    "\n",
    "# Assigning Values:\n",
    "# You assign values to variables using the assignment operator (=).\n",
    "x = 10\n",
    "y = \"Hello, Python!\"\n",
    "# The variable x now holds the integer value 10, and the variable y holds the string value \"Hello, Python!\".\n",
    "\n",
    "# Rules for Variable Names:\n",
    "# Start with a Letter or Underscore:\n",
    "# Variable names must start with a letter (a-z, A-Z) or an underscore (_).\n",
    "_count = 42\n",
    "name = \"John\"\n",
    "\n",
    "# Remaining Characters:\n",
    "# The remaining characters in the name can include letters, numbers, and underscores.\n",
    "my_variable = 3.14\n",
    "age_1 = 25\n",
    "\n",
    "# Case-Sensitive:\n",
    "# Variable names are case-sensitive, so myVariable and myvariable are treated as different variables.\n",
    "myVariable = 42\n",
    "myvariable = \"Hello\"\n",
    "\n",
    "# Dynamic Typing:\n",
    "# Python is dynamically typed, which means you don't need to specify the type of a variable explicitly. The interpreter infers the type based on the value assigned.\n",
    "dynamic_variable = 3.14  # dynamic_variable is dynamically assigned the type float\n",
    "dynamic_variable = \"Python\"  # Now, dynamic_variable is dynamically assigned the type str\n",
    "\n",
    "\n",
    "# Reassignment:\n",
    "# You can change the value of a variable by assigning a new value to it.\n",
    "count = 10\n",
    "count = count + 5  # Reassigning count with a new value"
   ]
  },
  {
   "cell_type": "markdown",
   "id": "a7d2d1a7-07a7-4ff8-97df-51735ad4315b",
   "metadata": {},
   "source": [
    "Q3. How do you convert one data type to another in Python?"
   ]
  },
  {
   "cell_type": "code",
   "execution_count": null,
   "id": "fe5a3a75-6fd4-4a09-9aa1-bd953f12170a",
   "metadata": {},
   "outputs": [],
   "source": [
    "# In Python, you can convert one data type to another using type conversion functions. Here are some commonly used ones:\n",
    "\n",
    "# Implicit Type Conversion (Automatic):\n",
    "\n",
    "# Python automatically converts one data type to another when needed. For example, adding an integer to a float will result in the automatic conversion of the integer to a float.\n",
    "# Explicit Type Conversion (Manual):\n",
    "\n",
    "# You can explicitly convert one data type to another using predefined functions. The commonly used functions are:\n",
    "# int(): Converts a number or a string to an integer.\n",
    "# float(): Converts a number or a string to a floating-point number.\n",
    "# str(): Converts an object to a string.\n",
    "# list(): Converts a sequence (e.g., tuple, string) to a list.\n",
    "# tuple(): Converts a sequence (e.g., list, string) to a tuple.\n",
    "\n",
    "# Here are some examples:\n",
    "\n",
    "# Implicit Type Conversion\n",
    "num_int = 10\n",
    "num_float = 5.5\n",
    "result = num_int + num_float  # num_int is implicitly converted to float\n",
    "print(result)  # Output: 15.5\n",
    "\n",
    "# Explicit Type Conversion\n",
    "num_str = \"25\"\n",
    "num_int = int(num_str)\n",
    "print(num_int)  # Output: 25\n",
    "\n",
    "str_num = \"3.14\"\n",
    "num_float = float(str_num)\n",
    "print(num_float)  # Output: 3.14\n",
    "\n",
    "# Converting to List and Tuple\n",
    "my_tuple = (1, 2, 3)\n",
    "list_from_tuple = list(my_tuple)\n",
    "print(list_from_tuple)  # Output: [1, 2, 3]\n",
    "\n",
    "my_list = [4, 5, 6]\n",
    "tuple_from_list = tuple(my_list)\n",
    "print(tuple_from_list)  # Output: (4, 5, 6)\n",
    "\n",
    "\n",
    "# It's important to note that not all conversions are possible.\n",
    "# For instance, converting a string that doesn't represent a valid number to an integer or float will result in a ValueError"
   ]
  },
  {
   "cell_type": "markdown",
   "id": "1746b5e5-bbae-4c88-93d2-4c5634ff5503",
   "metadata": {},
   "source": [
    "Q4. How do you write and execute a Python script from the command line?"
   ]
  },
  {
   "cell_type": "code",
   "execution_count": null,
   "id": "e81e557a-97b8-455c-bbd4-94cdac0f6d93",
   "metadata": {},
   "outputs": [],
   "source": [
    "'''To write and execute a Python script from the command line, follow these steps:\n",
    "\n",
    "Writing a Python Script:\n",
    "Open a Text Editor:\n",
    "Open a text editor of your choice (e.g., Notepad, VSCode, Sublime Text) to write your Python script.\n",
    "\n",
    "Write Your Python Code:\n",
    "Write your Python code in the text editor. Save the file with a .py extension. For example, you can create a file named myscript.py'''\n",
    "\n",
    "# myscript.py\n",
    "print(\"Hello, World!\")\n",
    "\n",
    "\n",
    "'''Executing the Python Script from the Command Line:\n",
    "Open the Command Prompt or Terminal:\n",
    "Open the command prompt on Windows or the terminal on macOS/Linux.\n",
    "Navigate to the Script Directory:\n",
    "Use the cd command to navigate to the directory where your Python script is saved.'''\n",
    "\n",
    "#cd path/to/your/script/directory\n",
    "\n",
    "'''Run the Python Script:\n",
    "Use the python command followed by the name of your script to run it.'''\n",
    "\n",
    "# python3 myscript.py\n",
    "\n",
    "'''This will execute your Python script, and you should see the output on the command line:'''\n",
    "\n",
    "# Hello, World!\n",
    "\n",
    "\n",
    "\n",
    "\n",
    "\n",
    "\n"
   ]
  },
  {
   "cell_type": "markdown",
   "id": "ac7cd27b-c487-4396-b329-194163563a78",
   "metadata": {},
   "source": [
    "Q5. Given a list my_list = [1, 2, 3, 4, 5], write the code to slice the list and obtain the sub-list [2, 3]."
   ]
  },
  {
   "cell_type": "code",
   "execution_count": 5,
   "id": "ca4e4765-6939-4119-a0fc-d95532ed5785",
   "metadata": {},
   "outputs": [
    {
     "name": "stdout",
     "output_type": "stream",
     "text": [
      "[1, 2, 3, 4, 5]\n",
      "[2, 3]\n"
     ]
    }
   ],
   "source": [
    "# Ans:-\n",
    "my_list = [1,2,3,4,5]\n",
    "\n",
    "#to print entire list\n",
    "print(my_list)\n",
    "\n",
    "#below code will obtain sub-list[2,3]\n",
    "print(my_list[1:3])\n",
    "\n"
   ]
  },
  {
   "cell_type": "markdown",
   "id": "438ed520-b165-4941-b932-3a4350d98726",
   "metadata": {},
   "source": [
    "Q6. What is a complex number in mathematics, and how is it represented in Python?"
   ]
  },
  {
   "cell_type": "code",
   "execution_count": null,
   "id": "2683a75f-d79b-41b0-934a-cfc881822ea2",
   "metadata": {},
   "outputs": [],
   "source": [
    "# Ans:-\n",
    "\n",
    "'''In mathematics, a complex number is a number of the form a+bi, , where a and b are real numbers, and \n",
    "i is the imaginary unit, which is defined as the square root of -1. The real part a is a regular real number, \n",
    "and the imaginary part b is a real number multiplied by the imaginary unit i.\n",
    "\n",
    "In Python, complex numbers are represented using the complex data type. \n",
    "The syntax for creating a complex number is a + bj, where a is the real part, b is the imaginary part, and j represents the imaginary unit. \n",
    "\n",
    "Here's an example:'''\n",
    "\n",
    "# Creating a complex number\n",
    "z = 3 + 4j\n",
    "\n",
    "# Accessing real and imaginary parts\n",
    "real_part = z.real  # Output: 3.0\n",
    "imaginary_part = z.imag  # Output: 4.0\n",
    "\n",
    "# Performing operations with complex numbers\n",
    "w = 1 - 2j\n",
    "sum_result = z + w  # Output: (4-2j)\n",
    "product_result = z * w  # Output: (11+2j)\n",
    "\n",
    "\n"
   ]
  },
  {
   "cell_type": "markdown",
   "id": "3f35052d-a87f-4437-9b6f-c5d7bd11f3c7",
   "metadata": {},
   "source": [
    "Q7. What is the correct way to declare a variable named age and assign the value 25 to it?"
   ]
  },
  {
   "cell_type": "code",
   "execution_count": 6,
   "id": "9b92d86d-a10b-4532-901c-bbf09e547723",
   "metadata": {},
   "outputs": [],
   "source": [
    "# below are the example of how to declare a variable the correct way\n",
    "\n",
    "#lets assume 'age' as a variable: Then the dclaration would be-\n",
    "\n",
    "age = 25\n",
    "\n",
    "# or\n",
    "\n",
    "_age = 25\n",
    "\n",
    "# A variable cannot start with the following:-\n",
    "\n",
    "@age = 25   #wrong\n",
    "\n",
    "# or\n",
    "\n",
    "1age =25 #wrong"
   ]
  },
  {
   "cell_type": "markdown",
   "id": "7707ebc9-b6dd-416f-b7e9-9e44f11d866c",
   "metadata": {},
   "source": [
    "Q8. Declare a variable named price and assign the value 9.99 to it. What data type does this variable\n",
    "belong to?"
   ]
  },
  {
   "cell_type": "code",
   "execution_count": 9,
   "id": "908ef94f-dee2-4ebd-bf4e-89bb4d8f91b2",
   "metadata": {},
   "outputs": [
    {
     "name": "stdout",
     "output_type": "stream",
     "text": [
      "9.99\n",
      "<class 'float'>\n"
     ]
    }
   ],
   "source": [
    "# Ans:-\n",
    "\n",
    "price = 9.99\n",
    "print(price)\n",
    "# the data type of the \"price\" varible is 'float'. T prove it let's run the below code\n",
    "\n",
    "print(type(price))"
   ]
  },
  {
   "cell_type": "markdown",
   "id": "84d76064-271c-48f1-9ac3-bc11f7d3d573",
   "metadata": {},
   "source": [
    "Q9. Create a variable named name and assign your full name to it as a string. How would you print the\n",
    "value of this variable?"
   ]
  },
  {
   "cell_type": "code",
   "execution_count": 10,
   "id": "2217d51c-dffd-47f6-8865-f1eb7391448c",
   "metadata": {},
   "outputs": [
    {
     "name": "stdout",
     "output_type": "stream",
     "text": [
      "Manojit Roy\n"
     ]
    }
   ],
   "source": [
    "# Ans:-\n",
    "\n",
    "name = \"Manojit Roy\"\n",
    "print(name)"
   ]
  },
  {
   "cell_type": "markdown",
   "id": "dfb993e8-9716-405d-88e6-a13c5dadcdc4",
   "metadata": {},
   "source": [
    "Q10. Given the string \"Hello, World!\", extract the substring \"World\"."
   ]
  },
  {
   "cell_type": "code",
   "execution_count": 13,
   "id": "d8a6dc03-c940-405d-9019-8ca8808508d9",
   "metadata": {},
   "outputs": [
    {
     "name": "stdout",
     "output_type": "stream",
     "text": [
      " World\n"
     ]
    }
   ],
   "source": [
    "# Ans:-\n",
    "\n",
    "str = \"Hello, World!\"\n",
    "\n",
    "print(str[6:12])"
   ]
  },
  {
   "cell_type": "markdown",
   "id": "cd60e229-5c0c-4072-be94-ea35f21b8583",
   "metadata": {},
   "source": [
    "Q11. Create a variable named \"is_student\" and assign it a boolean value indicating whether you are\n",
    "currently a student or not."
   ]
  },
  {
   "cell_type": "code",
   "execution_count": 16,
   "id": "c0e37216-a0a1-449e-bb4f-284bcfa23190",
   "metadata": {},
   "outputs": [],
   "source": [
    "# Ans:-\n",
    "\n",
    "is_student = False"
   ]
  },
  {
   "cell_type": "code",
   "execution_count": 17,
   "id": "1fb4e5be-d241-4a66-9890-231f16a4b7cb",
   "metadata": {},
   "outputs": [
    {
     "data": {
      "text/plain": [
       "False"
      ]
     },
     "execution_count": 17,
     "metadata": {},
     "output_type": "execute_result"
    }
   ],
   "source": [
    "is_student"
   ]
  },
  {
   "cell_type": "code",
   "execution_count": null,
   "id": "6c62a07b-e791-4746-9be9-7e4d36e3305a",
   "metadata": {},
   "outputs": [],
   "source": []
  },
  {
   "cell_type": "code",
   "execution_count": 7,
   "id": "5a013d59-c9c0-48bd-b529-54989fd76f5e",
   "metadata": {},
   "outputs": [
    {
     "data": {
      "text/plain": [
       "25"
      ]
     },
     "execution_count": 7,
     "metadata": {},
     "output_type": "execute_result"
    }
   ],
   "source": [
    "_age"
   ]
  }
 ],
 "metadata": {
  "kernelspec": {
   "display_name": "Python 3 (ipykernel)",
   "language": "python",
   "name": "python3"
  },
  "language_info": {
   "codemirror_mode": {
    "name": "ipython",
    "version": 3
   },
   "file_extension": ".py",
   "mimetype": "text/x-python",
   "name": "python",
   "nbconvert_exporter": "python",
   "pygments_lexer": "ipython3",
   "version": "3.10.6"
  }
 },
 "nbformat": 4,
 "nbformat_minor": 5
}
