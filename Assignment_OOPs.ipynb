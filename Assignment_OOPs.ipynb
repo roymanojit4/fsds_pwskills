{
 "cells": [
  {
   "cell_type": "markdown",
   "id": "07dba955-c891-4fe5-b121-44749694a2a7",
   "metadata": {},
   "source": [
    "Q1, Create a vehicle class with an init method having instance variables as name_of_vehicle, max_speed\n",
    "and average_of_vehicle."
   ]
  },
  {
   "cell_type": "code",
   "execution_count": 5,
   "id": "ce4b27d0-73ef-494d-9ce6-4320a82403b6",
   "metadata": {},
   "outputs": [],
   "source": [
    "# Ans:-\n",
    "\n",
    "class vehicle:\n",
    "    def __init__(self, name_of_vehicle, max_speed, average_of_vehicle):\n",
    "        self.name = name_of_vehicle\n",
    "        self.max_speed = max_speed\n",
    "        self.average = average_of_vehicle"
   ]
  },
  {
   "cell_type": "code",
   "execution_count": 8,
   "id": "9d026caf-15aa-475e-99ca-7e966dd15f2f",
   "metadata": {},
   "outputs": [],
   "source": [
    "# creating objec of vehicle class\n",
    "\n",
    "toyota = vehicle('Fortuner', 180, 12)"
   ]
  },
  {
   "cell_type": "code",
   "execution_count": 9,
   "id": "8eca0854-2bb2-4aa1-a731-2c0c6ce5e0b1",
   "metadata": {},
   "outputs": [
    {
     "data": {
      "text/plain": [
       "180"
      ]
     },
     "execution_count": 9,
     "metadata": {},
     "output_type": "execute_result"
    }
   ],
   "source": [
    "# checking the results\n",
    "\n",
    "toyota.max_speed"
   ]
  },
  {
   "cell_type": "markdown",
   "id": "f30eb9a6-e2e2-4381-82c8-bd944096b9b5",
   "metadata": {},
   "source": [
    "Q2. Create a child class car from the vehicle class created in Que 1, which will inherit the vehicle class.\n",
    "Create a method named seating_capacity which takes capacity as an argument and returns the name of\n",
    "the vehicle and its seating capacity."
   ]
  },
  {
   "cell_type": "code",
   "execution_count": 14,
   "id": "bcc02025-e98f-45ec-af2c-c720d303d175",
   "metadata": {},
   "outputs": [],
   "source": [
    "class Car(vehicle):\n",
    "    def __init__(self, name_of_vehicle, max_speed, average_of_vehicle):\n",
    "        super().__init__(name_of_vehicle, max_speed, average_of_vehicle)\n",
    "\n",
    "    def seating_capacity(self, capacity):\n",
    "        return f\"{self.name} has a seating capacity of {capacity}.\""
   ]
  },
  {
   "cell_type": "code",
   "execution_count": 17,
   "id": "21e10cd0-f1e8-4c41-97eb-e7bb6ae39397",
   "metadata": {},
   "outputs": [
    {
     "name": "stdout",
     "output_type": "stream",
     "text": [
      "Toyota Camry has a seating capacity of 5.\n"
     ]
    }
   ],
   "source": [
    "# Example usage:\n",
    "car_instance = Car(\"Toyota Camry\", 200, 25)\n",
    "capacity_result = car_instance.seating_capacity(5)\n",
    "print(capacity_result)"
   ]
  },
  {
   "cell_type": "markdown",
   "id": "caa2533b-751d-47b2-93d8-97abab58c4e3",
   "metadata": {},
   "source": [
    "# Q3. What is multiple inheritance? Write a python code to demonstrate multiple inheritance."
   ]
  },
  {
   "cell_type": "code",
   "execution_count": 18,
   "id": "c4b723aa-7f27-47a4-ab22-2dc835586123",
   "metadata": {},
   "outputs": [
    {
     "name": "stdout",
     "output_type": "stream",
     "text": [
      "Engine started.\n",
      "Engine stopped.\n",
      "Device is charging.\n",
      "Using electricity.\n",
      "Hybrid car is driving.\n"
     ]
    }
   ],
   "source": [
    "'''Multiple inheritance in Python refers to a situation where a class can inherit attributes and methods from more than one parent class.\n",
    "   This means that a child class can have characteristics of multiple parent classes. Here's an example code demonstrating multiple inheritance:'''\n",
    "\n",
    "class Engine:\n",
    "    def start(self):\n",
    "        return \"Engine started.\"\n",
    "\n",
    "    def stop(self):\n",
    "        return \"Engine stopped.\"\n",
    "\n",
    "class ElectricDevice:\n",
    "    def charge(self):\n",
    "        return \"Device is charging.\"\n",
    "\n",
    "    def use_electricity(self):\n",
    "        return \"Using electricity.\"\n",
    "\n",
    "class HybridCar(Engine, ElectricDevice):\n",
    "    def drive(self):\n",
    "        return \"Hybrid car is driving.\"\n",
    "\n",
    "# Example usage:\n",
    "hybrid_car = HybridCar()\n",
    "\n",
    "# Methods from the Engine class\n",
    "print(hybrid_car.start())  # Output: Engine started.\n",
    "print(hybrid_car.stop())   # Output: Engine stopped.\n",
    "\n",
    "# Methods from the ElectricDevice class\n",
    "print(hybrid_car.charge())           # Output: Device is charging.\n",
    "print(hybrid_car.use_electricity())  # Output: Using electricity.\n",
    "\n",
    "# Method from the HybridCar class\n",
    "print(hybrid_car.drive())  # Output: Hybrid car is driving.\n",
    "\n"
   ]
  },
  {
   "cell_type": "code",
   "execution_count": 19,
   "id": "e3334d85-935f-4ad9-9615-df5361346d2a",
   "metadata": {},
   "outputs": [
    {
     "name": "stdout",
     "output_type": "stream",
     "text": [
      "My variable value: 42\n"
     ]
    }
   ],
   "source": [
    "'''In Python, getters and setters are methods used to access and modify the attributes of a class, providing a way to control access and update of class variables. \n",
    "   They are commonly used to enforce encapsulation and add an additional layer of control over attribute access.\n",
    "\n",
    "Here's an example of a class with a getter and a setter method:'''\n",
    "\n",
    "class MyClass:\n",
    "    def __init__(self):\n",
    "        self._my_variable = None  # Private variable with a leading underscore\n",
    "\n",
    "    # Getter method\n",
    "    def get_my_variable(self):\n",
    "        return self._my_variable\n",
    "\n",
    "    # Setter method\n",
    "    def set_my_variable(self, value):\n",
    "        if value < 0:\n",
    "            print(\"Warning: Value should be non-negative.\")\n",
    "        else:\n",
    "            self._my_variable = value\n",
    "\n",
    "# Example usage:\n",
    "obj = MyClass()\n",
    "\n",
    "# Using the setter method\n",
    "obj.set_my_variable(42)\n",
    "\n",
    "# Using the getter method\n",
    "value = obj.get_my_variable()\n",
    "print(f\"My variable value: {value}\")"
   ]
  },
  {
   "cell_type": "markdown",
   "id": "675d8d71-a38d-4b77-9935-79ed87c90b68",
   "metadata": {},
   "source": [
    "Q5.What is method overriding in python? Write a python code to demonstrate method overriding."
   ]
  },
  {
   "cell_type": "code",
   "execution_count": 20,
   "id": "83452da3-7e67-48c3-a182-006a8125ef96",
   "metadata": {},
   "outputs": [
    {
     "name": "stdout",
     "output_type": "stream",
     "text": [
      "Generic animal sound\n",
      "Woof!\n",
      "Meow!\n"
     ]
    }
   ],
   "source": [
    "'''Method overriding in Python occurs when a subclass provides a specific implementation for a method that is already defined in its superclass.\n",
    "This allows the subclass to customize or extend the behavior of the inherited method. \n",
    "To override a method, the subclass must have a method with the same name and the same number and type of parameters as the one in the superclass.'''\n",
    "\n",
    "class Animal:\n",
    "    def speak(self):\n",
    "        return \"Generic animal sound\"\n",
    "\n",
    "class Dog(Animal):\n",
    "    def speak(self):\n",
    "        return \"Woof!\"\n",
    "\n",
    "class Cat(Animal):\n",
    "    def speak(self):\n",
    "        return \"Meow!\"\n",
    "\n",
    "# Example usage:\n",
    "animal = Animal()\n",
    "print(animal.speak())  # Output: Generic animal sound\n",
    "\n",
    "dog = Dog()\n",
    "print(dog.speak())  # Output: Woof!\n",
    "\n",
    "cat = Cat()\n",
    "print(cat.speak())  # Output: Meow!\n"
   ]
  }
 ],
 "metadata": {
  "kernelspec": {
   "display_name": "Python 3 (ipykernel)",
   "language": "python",
   "name": "python3"
  },
  "language_info": {
   "codemirror_mode": {
    "name": "ipython",
    "version": 3
   },
   "file_extension": ".py",
   "mimetype": "text/x-python",
   "name": "python",
   "nbconvert_exporter": "python",
   "pygments_lexer": "ipython3",
   "version": "3.10.6"
  }
 },
 "nbformat": 4,
 "nbformat_minor": 5
}
