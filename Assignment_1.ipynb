{
 "cells": [
  {
   "cell_type": "markdown",
   "id": "790904be-6bb1-40f1-b174-0a84b9d47d74",
   "metadata": {},
   "source": [
    "Q1. Create one variable containing following type of data:\n",
    "\n",
    "\n",
    "(i) string\n",
    "(ii) list\n",
    "(iii) float\n",
    "(iv) tuple"
   ]
  },
  {
   "cell_type": "code",
   "execution_count": 7,
   "id": "a068f3c4-26f6-4295-b584-dca68e9cdb5d",
   "metadata": {},
   "outputs": [
    {
     "name": "stdout",
     "output_type": "stream",
     "text": [
      "I'm a student of fullstack data science\n",
      "[234, 'ddfsss', 34.54, ['abc', 'def'], 'Manojit', 'Roy', (1, 3, 4, 5, 6, 7, 8, 'pwskills')]\n",
      "23.23\n",
      "(1, 2, 4, 6, 9, 8, 8, 8, 8, 853, 24, 'Manojit', [3, 'a', 4, 'b'])\n"
     ]
    }
   ],
   "source": [
    "# Ans:- \n",
    "\n",
    "# (i) string\n",
    "\n",
    "string = \"I'm a student of fullstack data science\"\n",
    "\n",
    "# (ii) list\n",
    "\n",
    "lst = [234,'ddfsss', 34.54, ['abc', 'def'], 'Manojit', 'Roy', (1,3,4,5,6,7,8, \"pwskills\")]\n",
    "\n",
    "flt = 23.23\n",
    "\n",
    "t = (1,2,4,6,9,8,8,8,8,853,24,'Manojit', [3,'a',4,'b'])\n",
    "\n",
    "print(string)\n",
    "print(lst)\n",
    "print(flt)\n",
    "print(t)\n"
   ]
  },
  {
   "cell_type": "code",
   "execution_count": 8,
   "id": "283c7b2b-b204-4998-ada2-9063e0a90034",
   "metadata": {},
   "outputs": [],
   "source": [
    "# Q2. Given are some following variables containing data:\n",
    "# (i) var1 = ‘ ‘\n",
    "# (ii) var2 = ‘[ DS , ML , Python]’\n",
    "# (iii) var3 = [ ‘DS’ , ’ML’ , ‘Python’ ]\n",
    "# (iv) var4 = 1.\n",
    "# What will be the data type of the above given variable."
   ]
  },
  {
   "cell_type": "markdown",
   "id": "31c0717b-3d93-4c80-ab34-d813be4dbae1",
   "metadata": {},
   "source": [
    "# Ans:-\n",
    "\n",
    "var1 is a string (str).\n",
    "var2 is a string (str).\n",
    "var3 is a list (list).\n",
    "var4 is a float (float)."
   ]
  },
  {
   "cell_type": "code",
   "execution_count": null,
   "id": "e281e693-1d36-4c25-8bac-6d9271b640e5",
   "metadata": {},
   "outputs": [],
   "source": [
    "# Q3. Explain the use of the following operators using an example:\n",
    "\n",
    "# (i) /\n",
    "# (ii) %\n",
    "# (iii) //\n",
    "# (iv) **"
   ]
  },
  {
   "cell_type": "markdown",
   "id": "b31e1494-1baf-446c-9239-ea9887de1e11",
   "metadata": {},
   "source": [
    "Ans:-\n",
    "\n",
    "(i) / (Division Operator)\n",
    "\n",
    "(ii) % (Modulus Operator)\n",
    "\n",
    "(iii) // (Floor Division Operator\n",
    "\n",
    "(iv) ** (Exponentiation Operator)"
   ]
  },
  {
   "cell_type": "markdown",
   "id": "fc9b1eb6-3fa8-45ae-94b6-c67ad91d6236",
   "metadata": {},
   "source": [
    "Q4. Create a list of length 10 of your choice containing multiple types of data. Using for loop print the\n",
    "element and its data type."
   ]
  },
  {
   "cell_type": "code",
   "execution_count": 12,
   "id": "1d175191-ed22-42c3-af1e-2a3c49081982",
   "metadata": {},
   "outputs": [],
   "source": [
    "# Ans:-\n",
    "\n",
    "li = [1,2,'manojit', 3.2, ['d',3,1.2], (67,45,'Roy'), {1,2,3,4,7,8,9,9,0}, 'm', True, False]"
   ]
  },
  {
   "cell_type": "code",
   "execution_count": 13,
   "id": "13371ee0-8c78-465e-af89-02555dfe7df6",
   "metadata": {},
   "outputs": [
    {
     "data": {
      "text/plain": [
       "10"
      ]
     },
     "execution_count": 13,
     "metadata": {},
     "output_type": "execute_result"
    }
   ],
   "source": [
    "len(li)"
   ]
  },
  {
   "cell_type": "code",
   "execution_count": 18,
   "id": "8b135f4e-b9ee-43c0-9c80-f50d34c47a30",
   "metadata": {},
   "outputs": [
    {
     "name": "stdout",
     "output_type": "stream",
     "text": [
      "Element: 1, Type: <class 'int'>\n",
      "Element: 2, Type: <class 'int'>\n",
      "Element: manojit, Type: <class 'str'>\n",
      "Element: 3.2, Type: <class 'float'>\n",
      "Element: ['d', 3, 1.2], Type: <class 'list'>\n",
      "Element: (67, 45, 'Roy'), Type: <class 'tuple'>\n",
      "Element: {0, 1, 2, 3, 4, 7, 8, 9}, Type: <class 'set'>\n",
      "Element: m, Type: <class 'str'>\n",
      "Element: True, Type: <class 'bool'>\n",
      "Element: False, Type: <class 'bool'>\n"
     ]
    }
   ],
   "source": [
    "# holding the eliment\n",
    "li1 = []\n",
    "\n",
    "# holding the types\n",
    "li2 = []\n",
    "\n",
    "for i in li:\n",
    "    li1.append(i)\n",
    "    li2.append(type(i))\n",
    "    \n",
    "\n",
    "# Displaying results side by side    \n",
    "for element, data_type in zip(li1, li2):\n",
    "    print(f\"Element: {element}, Type: {data_type}\")"
   ]
  },
  {
   "cell_type": "markdown",
   "id": "c885a783-01bc-40b3-8f3a-9cb5324bd65e",
   "metadata": {},
   "source": [
    "Q5. Using a while loop, verify if the number A is purely divisible by number B and if so then how many\n",
    "times it can be divisible."
   ]
  },
  {
   "cell_type": "code",
   "execution_count": 3,
   "id": "265591d2-8edf-49d9-869e-403928925ffd",
   "metadata": {},
   "outputs": [
    {
     "name": "stdin",
     "output_type": "stream",
     "text": [
      "Enter the value of A:  90\n",
      "Enter the value of B:  15\n"
     ]
    },
    {
     "name": "stdout",
     "output_type": "stream",
     "text": [
      "1 times, 15 divides 6.0 without remainder.\n"
     ]
    }
   ],
   "source": [
    "# Ans:-\n",
    "\n",
    "# Input the two numbers\n",
    "A = int(input(\"Enter the value of A: \"))\n",
    "B = int(input(\"Enter the value of B: \"))\n",
    "\n",
    "# Initialize a variable to count the number of divisions\n",
    "count = 0\n",
    "\n",
    "# Use a while loop to check for divisibility\n",
    "while A % B == 0:\n",
    "    # If A is divisible by B, update A to be the result of the division\n",
    "    A = A / B\n",
    "    # Increment the count of divisions\n",
    "    count += 1\n",
    "\n",
    "# Check if any divisions occurred\n",
    "if count > 0:\n",
    "    print(f\"{count} times, {B} divides {A} without remainder.\")\n",
    "else:\n",
    "    print(f\"{B} does not divide {A} without remainder.\")\n"
   ]
  },
  {
   "cell_type": "code",
   "execution_count": null,
   "id": "1ab399d8-e7f4-4a3d-a71b-43e834efdaaf",
   "metadata": {},
   "outputs": [],
   "source": []
  },
  {
   "cell_type": "markdown",
   "id": "2527753f-92ef-4ab1-bdf1-c7855e27b605",
   "metadata": {},
   "source": [
    "Q6. Create a list containing 25 int type data. Using for loop and if-else condition print if the element is\n",
    "divisible by 3 or not."
   ]
  },
  {
   "cell_type": "code",
   "execution_count": 4,
   "id": "50edb8c2-9251-48a6-899d-9107f934b639",
   "metadata": {},
   "outputs": [
    {
     "name": "stdout",
     "output_type": "stream",
     "text": [
      "2 is not divisible by 3.\n",
      "6 is divisible by 3.\n",
      "9 is divisible by 3.\n",
      "12 is divisible by 3.\n",
      "15 is divisible by 3.\n",
      "18 is divisible by 3.\n",
      "21 is divisible by 3.\n",
      "24 is divisible by 3.\n",
      "27 is divisible by 3.\n",
      "30 is divisible by 3.\n",
      "33 is divisible by 3.\n",
      "36 is divisible by 3.\n",
      "39 is divisible by 3.\n",
      "42 is divisible by 3.\n",
      "45 is divisible by 3.\n",
      "48 is divisible by 3.\n",
      "51 is divisible by 3.\n",
      "54 is divisible by 3.\n",
      "57 is divisible by 3.\n",
      "60 is divisible by 3.\n",
      "63 is divisible by 3.\n",
      "66 is divisible by 3.\n",
      "69 is divisible by 3.\n",
      "72 is divisible by 3.\n",
      "75 is divisible by 3.\n"
     ]
    }
   ],
   "source": [
    "# Ans:-\n",
    "\n",
    "# Create a list of 25 integers\n",
    "numbers = [2, 6, 9, 12, 15, 18, 21, 24, 27, 30, 33, 36, 39, 42, 45, 48, 51, 54, 57, 60, 63, 66, 69, 72, 75]\n",
    "\n",
    "# Iterate through the list using a for loop\n",
    "for number in numbers:\n",
    "    # Check if the element is divisible by 3\n",
    "    if number % 3 == 0:\n",
    "        print(f\"{number} is divisible by 3.\")\n",
    "    else:\n",
    "        print(f\"{number} is not divisible by 3.\")\n"
   ]
  },
  {
   "cell_type": "code",
   "execution_count": null,
   "id": "a28b08e9-4fed-4833-9b9d-11ffca58f408",
   "metadata": {},
   "outputs": [],
   "source": []
  },
  {
   "cell_type": "markdown",
   "id": "f4f531e1-425c-4ce3-b3ad-5de90297122d",
   "metadata": {},
   "source": [
    "Q7. What do you understand about mutable and immutable data types? Give examples for both showing\n",
    "this property."
   ]
  },
  {
   "cell_type": "code",
   "execution_count": 6,
   "id": "7c6d92fc-682f-403e-881c-c8dfb4aa0a35",
   "metadata": {},
   "outputs": [
    {
     "name": "stdout",
     "output_type": "stream",
     "text": [
      "[1, 2, 999, 4]\n",
      "(1, 2, 3, 4)\n"
     ]
    }
   ],
   "source": [
    "# Ans:-\n",
    "\n",
    "# Mutable Data Types:\n",
    "# Objects of mutable data types can be modified after creation.\n",
    "# Changes to the object affect the object itself, not a new copy.\n",
    "# Examples of mutable data types in Python include lists, dictionaries, and sets.\n",
    "\n",
    "# Example of a mutable data type: List\n",
    "mutable_list = [1, 2, 3, 4]\n",
    "\n",
    "# Modifying the list in-place\n",
    "mutable_list[2] = 999\n",
    "\n",
    "print(mutable_list)  # Output: [1, 2, 999, 4]\n",
    "\n",
    "\n",
    "\n",
    "\n",
    "# Immutable Data Types:\n",
    "# Objects of immutable data types cannot be modified after creation.\n",
    "# Any operation that appears to modify the object actually creates a new object.\n",
    "# Examples of immutable data types in Python include integers, floats, strings, and tuples.\n",
    "\n",
    "# Example of an immutable data type: Tuple\n",
    "immutable_tuple = (1, 2, 3, 4)\n",
    "print(immutable_tuple)\n",
    "\n",
    "# Attempting to modify the tuple will result in an error\n",
    "# immutable_tuple[2] = 999  # This line will raise a TypeError\n",
    "\n",
    "# Understanding whether a data type is mutable or immutable is crucial because it affects how you can manipulate and use data. Immutable types are generally safer for certain operations, like using them as keys in dictionaries, where mutability could lead to unexpected behavior. Mutable types, on the other hand, provide more flexibility for in-place modifications."
   ]
  },
  {
   "cell_type": "code",
   "execution_count": null,
   "id": "2900107f-95e6-470e-a137-cd90caf3715c",
   "metadata": {},
   "outputs": [],
   "source": []
  }
 ],
 "metadata": {
  "kernelspec": {
   "display_name": "Python 3 (ipykernel)",
   "language": "python",
   "name": "python3"
  },
  "language_info": {
   "codemirror_mode": {
    "name": "ipython",
    "version": 3
   },
   "file_extension": ".py",
   "mimetype": "text/x-python",
   "name": "python",
   "nbconvert_exporter": "python",
   "pygments_lexer": "ipython3",
   "version": "3.10.6"
  }
 },
 "nbformat": 4,
 "nbformat_minor": 5
}
